{
 "cells": [
  {
   "cell_type": "markdown",
   "metadata": {},
   "source": [
    "# Semster Test"
   ]
  },
  {
   "cell_type": "markdown",
   "metadata": {},
   "source": [
    "# Problem 1\n",
    "\n",
    "You work for a telecoms company. Your boss has asked you to build a forecast model to predict usage (Total_Call_Hours) of the network for the next month.\n",
    "\n",
    "Each of you will receive your own data file named {student_id}_data.csv The data in the file consists of a number of peoples daily phone records from 2010 to 2016.\n",
    "\n",
    "Follow the below process to produce a forecast model. If it is a word question just type in the text else you must present code."
   ]
  },
  {
   "cell_type": "code",
   "execution_count": 115,
   "metadata": {
    "collapsed": false
   },
   "outputs": [],
   "source": [
    "### Do your imports here\n",
    "import numpy as np \n",
    "import pandas as pd\n",
    "import matplotlib.pyplot as plt\n",
    "from statsmodels.graphics.tsaplots import month_plot, plot_acf, plot_pacf\n",
    "from scipy.stats import boxcox\n",
    "from statsmodels.stats.diagnostic import acorr_ljungbox"
   ]
  },
  {
   "cell_type": "markdown",
   "metadata": {},
   "source": [
    "## Question 1 (1)\n",
    "\n",
    "Read in your data and follow your inital EDA. Since the data is randomly generated you do not need to validate it against an external data source. Just print out each of the following steps.\n",
    "\n",
    "1. Read in your data\n",
    "2. Check the packaging\n",
    "3. Look at the top and the bottom of your data\n",
    "4. Check your “n”s\n"
   ]
  },
  {
   "cell_type": "markdown",
   "metadata": {},
   "source": [
    " Reading in the Data"
   ]
  },
  {
   "cell_type": "code",
   "execution_count": 2,
   "metadata": {
    "collapsed": true
   },
   "outputs": [],
   "source": [
    "calls = pd.read_csv('714188_data.csv')"
   ]
  },
  {
   "cell_type": "markdown",
   "metadata": {},
   "source": [
    "Checking the packaging \n",
    "\n"
   ]
  },
  {
   "cell_type": "code",
   "execution_count": 3,
   "metadata": {
    "collapsed": false
   },
   "outputs": [
    {
     "data": {
      "text/plain": [
       "(52917, 4)"
      ]
     },
     "execution_count": 3,
     "metadata": {},
     "output_type": "execute_result"
    }
   ],
   "source": [
    "calls.shape"
   ]
  },
  {
   "cell_type": "code",
   "execution_count": 4,
   "metadata": {
    "collapsed": false
   },
   "outputs": [
    {
     "data": {
      "text/plain": [
       "52917"
      ]
     },
     "execution_count": 4,
     "metadata": {},
     "output_type": "execute_result"
    }
   ],
   "source": [
    "calls.shape[0]"
   ]
  },
  {
   "cell_type": "code",
   "execution_count": 5,
   "metadata": {
    "collapsed": false
   },
   "outputs": [
    {
     "data": {
      "text/plain": [
       "4"
      ]
     },
     "execution_count": 5,
     "metadata": {},
     "output_type": "execute_result"
    }
   ],
   "source": [
    "calls.shape[1]"
   ]
  },
  {
   "cell_type": "markdown",
   "metadata": {},
   "source": [
    "Looking at the top and bottom of the data"
   ]
  },
  {
   "cell_type": "code",
   "execution_count": 6,
   "metadata": {
    "collapsed": false
   },
   "outputs": [
    {
     "data": {
      "text/html": [
       "<div>\n",
       "<table border=\"1\" class=\"dataframe\">\n",
       "  <thead>\n",
       "    <tr style=\"text-align: right;\">\n",
       "      <th></th>\n",
       "      <th>Name</th>\n",
       "      <th>Call_Start</th>\n",
       "      <th>Call_End</th>\n",
       "      <th>Call_Phone_No</th>\n",
       "    </tr>\n",
       "  </thead>\n",
       "  <tbody>\n",
       "    <tr>\n",
       "      <th>0</th>\n",
       "      <td>Tammy Jimenez</td>\n",
       "      <td>2010-01-23 17:21:47</td>\n",
       "      <td>2010-01-23 17:27:04</td>\n",
       "      <td>(506)446-5753</td>\n",
       "    </tr>\n",
       "    <tr>\n",
       "      <th>1</th>\n",
       "      <td>Travis Mcneil</td>\n",
       "      <td>2010-01-27 14:00:50</td>\n",
       "      <td>2010-01-27 14:18:46</td>\n",
       "      <td>131-008-3082x060</td>\n",
       "    </tr>\n",
       "    <tr>\n",
       "      <th>2</th>\n",
       "      <td>Brandi Price</td>\n",
       "      <td>2010-01-22 04:22:24</td>\n",
       "      <td>2010-01-22 04:35:27</td>\n",
       "      <td>152.360.0249x7886</td>\n",
       "    </tr>\n",
       "    <tr>\n",
       "      <th>3</th>\n",
       "      <td>Timothy Gibbs</td>\n",
       "      <td>2010-01-16 10:04:19</td>\n",
       "      <td>2010-01-16 10:05:06</td>\n",
       "      <td>(984)175-0174x726</td>\n",
       "    </tr>\n",
       "    <tr>\n",
       "      <th>4</th>\n",
       "      <td>Michael Logan</td>\n",
       "      <td>2010-01-15 09:33:02</td>\n",
       "      <td>2010-01-15 09:47:26</td>\n",
       "      <td>(079)310-0454x65703</td>\n",
       "    </tr>\n",
       "  </tbody>\n",
       "</table>\n",
       "</div>"
      ],
      "text/plain": [
       "            Name           Call_Start             Call_End  \\\n",
       "0  Tammy Jimenez  2010-01-23 17:21:47  2010-01-23 17:27:04   \n",
       "1  Travis Mcneil  2010-01-27 14:00:50  2010-01-27 14:18:46   \n",
       "2   Brandi Price  2010-01-22 04:22:24  2010-01-22 04:35:27   \n",
       "3  Timothy Gibbs  2010-01-16 10:04:19  2010-01-16 10:05:06   \n",
       "4  Michael Logan  2010-01-15 09:33:02  2010-01-15 09:47:26   \n",
       "\n",
       "         Call_Phone_No  \n",
       "0        (506)446-5753  \n",
       "1     131-008-3082x060  \n",
       "2    152.360.0249x7886  \n",
       "3    (984)175-0174x726  \n",
       "4  (079)310-0454x65703  "
      ]
     },
     "execution_count": 6,
     "metadata": {},
     "output_type": "execute_result"
    }
   ],
   "source": [
    "### use the print() statement to print out the above steps\n",
    "calls.head()"
   ]
  },
  {
   "cell_type": "code",
   "execution_count": 7,
   "metadata": {
    "collapsed": false
   },
   "outputs": [
    {
     "data": {
      "text/html": [
       "<div>\n",
       "<table border=\"1\" class=\"dataframe\">\n",
       "  <thead>\n",
       "    <tr style=\"text-align: right;\">\n",
       "      <th></th>\n",
       "      <th>Name</th>\n",
       "      <th>Call_Start</th>\n",
       "      <th>Call_End</th>\n",
       "      <th>Call_Phone_No</th>\n",
       "    </tr>\n",
       "  </thead>\n",
       "  <tbody>\n",
       "    <tr>\n",
       "      <th>52912</th>\n",
       "      <td>Julia Obrien</td>\n",
       "      <td>2016-12-02 22:57:51</td>\n",
       "      <td>2016-12-02 23:17:50</td>\n",
       "      <td>09440407675</td>\n",
       "    </tr>\n",
       "    <tr>\n",
       "      <th>52913</th>\n",
       "      <td>James Hood</td>\n",
       "      <td>2016-12-08 17:12:40</td>\n",
       "      <td>2016-12-08 17:31:16</td>\n",
       "      <td>934.104.3666x345</td>\n",
       "    </tr>\n",
       "    <tr>\n",
       "      <th>52914</th>\n",
       "      <td>Alexandra Smith</td>\n",
       "      <td>2016-12-22 11:35:00</td>\n",
       "      <td>2016-12-22 11:43:14</td>\n",
       "      <td>715.919.0821x85294</td>\n",
       "    </tr>\n",
       "    <tr>\n",
       "      <th>52915</th>\n",
       "      <td>Barbara Henderson</td>\n",
       "      <td>2016-12-23 19:10:03</td>\n",
       "      <td>2016-12-23 19:23:02</td>\n",
       "      <td>288-388-0847x4594</td>\n",
       "    </tr>\n",
       "    <tr>\n",
       "      <th>52916</th>\n",
       "      <td>Curtis Johnson</td>\n",
       "      <td>2016-12-02 10:43:36</td>\n",
       "      <td>2016-12-02 10:57:41</td>\n",
       "      <td>144.255.7565x7173</td>\n",
       "    </tr>\n",
       "  </tbody>\n",
       "</table>\n",
       "</div>"
      ],
      "text/plain": [
       "                    Name           Call_Start             Call_End  \\\n",
       "52912       Julia Obrien  2016-12-02 22:57:51  2016-12-02 23:17:50   \n",
       "52913         James Hood  2016-12-08 17:12:40  2016-12-08 17:31:16   \n",
       "52914    Alexandra Smith  2016-12-22 11:35:00  2016-12-22 11:43:14   \n",
       "52915  Barbara Henderson  2016-12-23 19:10:03  2016-12-23 19:23:02   \n",
       "52916     Curtis Johnson  2016-12-02 10:43:36  2016-12-02 10:57:41   \n",
       "\n",
       "            Call_Phone_No  \n",
       "52912         09440407675  \n",
       "52913    934.104.3666x345  \n",
       "52914  715.919.0821x85294  \n",
       "52915   288-388-0847x4594  \n",
       "52916   144.255.7565x7173  "
      ]
     },
     "execution_count": 7,
     "metadata": {},
     "output_type": "execute_result"
    }
   ],
   "source": [
    "calls.tail(5)"
   ]
  },
  {
   "cell_type": "markdown",
   "metadata": {
    "collapsed": false
   },
   "source": [
    "checking the n's"
   ]
  },
  {
   "cell_type": "code",
   "execution_count": 8,
   "metadata": {
    "collapsed": false
   },
   "outputs": [
    {
     "name": "stdout",
     "output_type": "stream",
     "text": [
      "(52917, 4)\n"
     ]
    }
   ],
   "source": [
    "print(calls.shape)"
   ]
  },
  {
   "cell_type": "code",
   "execution_count": 9,
   "metadata": {
    "collapsed": false
   },
   "outputs": [
    {
     "name": "stdout",
     "output_type": "stream",
     "text": [
      "2\n"
     ]
    }
   ],
   "source": [
    "print(calls.ndim)"
   ]
  },
  {
   "cell_type": "code",
   "execution_count": 10,
   "metadata": {
    "collapsed": false
   },
   "outputs": [
    {
     "name": "stdout",
     "output_type": "stream",
     "text": [
      "<class 'pandas.core.frame.DataFrame'>\n",
      "RangeIndex: 52917 entries, 0 to 52916\n",
      "Data columns (total 4 columns):\n",
      "Name             52917 non-null object\n",
      "Call_Start       52917 non-null object\n",
      "Call_End         52917 non-null object\n",
      "Call_Phone_No    52917 non-null object\n",
      "dtypes: object(4)\n",
      "memory usage: 1.6+ MB\n",
      "None\n"
     ]
    }
   ],
   "source": [
    "print(calls.info())"
   ]
  },
  {
   "cell_type": "markdown",
   "metadata": {},
   "source": [
    "## Question 2 (1)\n",
    "\n",
    "Your data is not ideally formated for your analysis. Specifically you are not really interested in who made calls on each day. Rather just the total number of calls made on a given day and the total number of call hours utilised. \n",
    "Wrangle your data so that it now shows:\n",
    "\n",
    "Date, Number_Of_Calls, Total_Call_Hours"
   ]
  },
  {
   "cell_type": "code",
   "execution_count": 11,
   "metadata": {
    "collapsed": false
   },
   "outputs": [
    {
     "name": "stdout",
     "output_type": "stream",
     "text": [
      "0\n",
      "10000\n",
      "20000\n",
      "30000\n",
      "40000\n",
      "50000\n"
     ]
    }
   ],
   "source": [
    "Date = np.zeros(len(calls['Call_Start']),dtype = (str,11))\n",
    "Number_Of_Calls = np.ones(len(calls['Call_Start']))\n",
    "\n",
    "for i in np.arange(len(Date)):\n",
    "    Date[i] = calls['Call_Start'][i].split(\" \",1)[0]\n",
    "    if i % 1e4 == 0:\n",
    "        print (i)"
   ]
  },
  {
   "cell_type": "code",
   "execution_count": 12,
   "metadata": {
    "collapsed": false,
    "scrolled": true
   },
   "outputs": [
    {
     "data": {
      "text/html": [
       "<div>\n",
       "<table border=\"1\" class=\"dataframe\">\n",
       "  <thead>\n",
       "    <tr style=\"text-align: right;\">\n",
       "      <th></th>\n",
       "      <th>Name</th>\n",
       "      <th>Call_Start</th>\n",
       "      <th>Call_End</th>\n",
       "      <th>Call_Phone_No</th>\n",
       "    </tr>\n",
       "  </thead>\n",
       "  <tbody>\n",
       "    <tr>\n",
       "      <th>0</th>\n",
       "      <td>Tammy Jimenez</td>\n",
       "      <td>2010-01-23 17:21:47</td>\n",
       "      <td>2010-01-23 17:27:04</td>\n",
       "      <td>(506)446-5753</td>\n",
       "    </tr>\n",
       "    <tr>\n",
       "      <th>1</th>\n",
       "      <td>Travis Mcneil</td>\n",
       "      <td>2010-01-27 14:00:50</td>\n",
       "      <td>2010-01-27 14:18:46</td>\n",
       "      <td>131-008-3082x060</td>\n",
       "    </tr>\n",
       "    <tr>\n",
       "      <th>2</th>\n",
       "      <td>Brandi Price</td>\n",
       "      <td>2010-01-22 04:22:24</td>\n",
       "      <td>2010-01-22 04:35:27</td>\n",
       "      <td>152.360.0249x7886</td>\n",
       "    </tr>\n",
       "    <tr>\n",
       "      <th>3</th>\n",
       "      <td>Timothy Gibbs</td>\n",
       "      <td>2010-01-16 10:04:19</td>\n",
       "      <td>2010-01-16 10:05:06</td>\n",
       "      <td>(984)175-0174x726</td>\n",
       "    </tr>\n",
       "    <tr>\n",
       "      <th>4</th>\n",
       "      <td>Michael Logan</td>\n",
       "      <td>2010-01-15 09:33:02</td>\n",
       "      <td>2010-01-15 09:47:26</td>\n",
       "      <td>(079)310-0454x65703</td>\n",
       "    </tr>\n",
       "    <tr>\n",
       "      <th>5</th>\n",
       "      <td>Alison Tucker</td>\n",
       "      <td>2010-01-17 02:26:09</td>\n",
       "      <td>2010-01-17 02:44:24</td>\n",
       "      <td>04771968654</td>\n",
       "    </tr>\n",
       "    <tr>\n",
       "      <th>6</th>\n",
       "      <td>Diana Anderson</td>\n",
       "      <td>2010-01-11 15:33:01</td>\n",
       "      <td>2010-01-11 15:35:38</td>\n",
       "      <td>01211859086</td>\n",
       "    </tr>\n",
       "    <tr>\n",
       "      <th>7</th>\n",
       "      <td>Jeffery Spears</td>\n",
       "      <td>2010-01-30 07:37:40</td>\n",
       "      <td>2010-01-30 07:39:33</td>\n",
       "      <td>279-044-5088x54896</td>\n",
       "    </tr>\n",
       "    <tr>\n",
       "      <th>8</th>\n",
       "      <td>Mrs. Brittany Jones</td>\n",
       "      <td>2010-01-07 04:57:46</td>\n",
       "      <td>2010-01-07 05:16:24</td>\n",
       "      <td>376.606.3705x41652</td>\n",
       "    </tr>\n",
       "    <tr>\n",
       "      <th>9</th>\n",
       "      <td>Jeffrey Mosley</td>\n",
       "      <td>2010-01-25 20:58:53</td>\n",
       "      <td>2010-01-25 21:09:07</td>\n",
       "      <td>133-143-4119</td>\n",
       "    </tr>\n",
       "  </tbody>\n",
       "</table>\n",
       "</div>"
      ],
      "text/plain": [
       "                  Name           Call_Start             Call_End  \\\n",
       "0        Tammy Jimenez  2010-01-23 17:21:47  2010-01-23 17:27:04   \n",
       "1        Travis Mcneil  2010-01-27 14:00:50  2010-01-27 14:18:46   \n",
       "2         Brandi Price  2010-01-22 04:22:24  2010-01-22 04:35:27   \n",
       "3        Timothy Gibbs  2010-01-16 10:04:19  2010-01-16 10:05:06   \n",
       "4        Michael Logan  2010-01-15 09:33:02  2010-01-15 09:47:26   \n",
       "5        Alison Tucker  2010-01-17 02:26:09  2010-01-17 02:44:24   \n",
       "6       Diana Anderson  2010-01-11 15:33:01  2010-01-11 15:35:38   \n",
       "7       Jeffery Spears  2010-01-30 07:37:40  2010-01-30 07:39:33   \n",
       "8  Mrs. Brittany Jones  2010-01-07 04:57:46  2010-01-07 05:16:24   \n",
       "9       Jeffrey Mosley  2010-01-25 20:58:53  2010-01-25 21:09:07   \n",
       "\n",
       "         Call_Phone_No  \n",
       "0        (506)446-5753  \n",
       "1     131-008-3082x060  \n",
       "2    152.360.0249x7886  \n",
       "3    (984)175-0174x726  \n",
       "4  (079)310-0454x65703  \n",
       "5          04771968654  \n",
       "6          01211859086  \n",
       "7   279-044-5088x54896  \n",
       "8   376.606.3705x41652  \n",
       "9         133-143-4119  "
      ]
     },
     "execution_count": 12,
     "metadata": {},
     "output_type": "execute_result"
    }
   ],
   "source": [
    "calls[:10]"
   ]
  },
  {
   "cell_type": "code",
   "execution_count": 13,
   "metadata": {
    "collapsed": false
   },
   "outputs": [
    {
     "data": {
      "text/html": [
       "<div>\n",
       "<table border=\"1\" class=\"dataframe\">\n",
       "  <thead>\n",
       "    <tr style=\"text-align: right;\">\n",
       "      <th></th>\n",
       "      <th>Name</th>\n",
       "      <th>Call_Start</th>\n",
       "      <th>Call_End</th>\n",
       "      <th>Call_Phone_No</th>\n",
       "    </tr>\n",
       "    <tr>\n",
       "      <th>Call_Start</th>\n",
       "      <th></th>\n",
       "      <th></th>\n",
       "      <th></th>\n",
       "      <th></th>\n",
       "    </tr>\n",
       "  </thead>\n",
       "  <tbody>\n",
       "    <tr>\n",
       "      <th>2010-01-23</th>\n",
       "      <td>Tammy Jimenez</td>\n",
       "      <td>2010-01-23 17:21:47</td>\n",
       "      <td>2010-01-23 17:27:04</td>\n",
       "      <td>(506)446-5753</td>\n",
       "    </tr>\n",
       "    <tr>\n",
       "      <th>2010-01-27</th>\n",
       "      <td>Travis Mcneil</td>\n",
       "      <td>2010-01-27 14:00:50</td>\n",
       "      <td>2010-01-27 14:18:46</td>\n",
       "      <td>131-008-3082x060</td>\n",
       "    </tr>\n",
       "    <tr>\n",
       "      <th>2010-01-22</th>\n",
       "      <td>Brandi Price</td>\n",
       "      <td>2010-01-22 04:22:24</td>\n",
       "      <td>2010-01-22 04:35:27</td>\n",
       "      <td>152.360.0249x7886</td>\n",
       "    </tr>\n",
       "    <tr>\n",
       "      <th>2010-01-16</th>\n",
       "      <td>Timothy Gibbs</td>\n",
       "      <td>2010-01-16 10:04:19</td>\n",
       "      <td>2010-01-16 10:05:06</td>\n",
       "      <td>(984)175-0174x726</td>\n",
       "    </tr>\n",
       "    <tr>\n",
       "      <th>2010-01-15</th>\n",
       "      <td>Michael Logan</td>\n",
       "      <td>2010-01-15 09:33:02</td>\n",
       "      <td>2010-01-15 09:47:26</td>\n",
       "      <td>(079)310-0454x65703</td>\n",
       "    </tr>\n",
       "    <tr>\n",
       "      <th>2010-01-17</th>\n",
       "      <td>Alison Tucker</td>\n",
       "      <td>2010-01-17 02:26:09</td>\n",
       "      <td>2010-01-17 02:44:24</td>\n",
       "      <td>04771968654</td>\n",
       "    </tr>\n",
       "    <tr>\n",
       "      <th>2010-01-11</th>\n",
       "      <td>Diana Anderson</td>\n",
       "      <td>2010-01-11 15:33:01</td>\n",
       "      <td>2010-01-11 15:35:38</td>\n",
       "      <td>01211859086</td>\n",
       "    </tr>\n",
       "    <tr>\n",
       "      <th>2010-01-30</th>\n",
       "      <td>Jeffery Spears</td>\n",
       "      <td>2010-01-30 07:37:40</td>\n",
       "      <td>2010-01-30 07:39:33</td>\n",
       "      <td>279-044-5088x54896</td>\n",
       "    </tr>\n",
       "    <tr>\n",
       "      <th>2010-01-07</th>\n",
       "      <td>Mrs. Brittany Jones</td>\n",
       "      <td>2010-01-07 04:57:46</td>\n",
       "      <td>2010-01-07 05:16:24</td>\n",
       "      <td>376.606.3705x41652</td>\n",
       "    </tr>\n",
       "    <tr>\n",
       "      <th>2010-01-25</th>\n",
       "      <td>Jeffrey Mosley</td>\n",
       "      <td>2010-01-25 20:58:53</td>\n",
       "      <td>2010-01-25 21:09:07</td>\n",
       "      <td>133-143-4119</td>\n",
       "    </tr>\n",
       "  </tbody>\n",
       "</table>\n",
       "</div>"
      ],
      "text/plain": [
       "                           Name           Call_Start             Call_End  \\\n",
       "Call_Start                                                                  \n",
       "2010-01-23        Tammy Jimenez  2010-01-23 17:21:47  2010-01-23 17:27:04   \n",
       "2010-01-27        Travis Mcneil  2010-01-27 14:00:50  2010-01-27 14:18:46   \n",
       "2010-01-22         Brandi Price  2010-01-22 04:22:24  2010-01-22 04:35:27   \n",
       "2010-01-16        Timothy Gibbs  2010-01-16 10:04:19  2010-01-16 10:05:06   \n",
       "2010-01-15        Michael Logan  2010-01-15 09:33:02  2010-01-15 09:47:26   \n",
       "2010-01-17        Alison Tucker  2010-01-17 02:26:09  2010-01-17 02:44:24   \n",
       "2010-01-11       Diana Anderson  2010-01-11 15:33:01  2010-01-11 15:35:38   \n",
       "2010-01-30       Jeffery Spears  2010-01-30 07:37:40  2010-01-30 07:39:33   \n",
       "2010-01-07  Mrs. Brittany Jones  2010-01-07 04:57:46  2010-01-07 05:16:24   \n",
       "2010-01-25       Jeffrey Mosley  2010-01-25 20:58:53  2010-01-25 21:09:07   \n",
       "\n",
       "                  Call_Phone_No  \n",
       "Call_Start                       \n",
       "2010-01-23        (506)446-5753  \n",
       "2010-01-27     131-008-3082x060  \n",
       "2010-01-22    152.360.0249x7886  \n",
       "2010-01-16    (984)175-0174x726  \n",
       "2010-01-15  (079)310-0454x65703  \n",
       "2010-01-17          04771968654  \n",
       "2010-01-11          01211859086  \n",
       "2010-01-30   279-044-5088x54896  \n",
       "2010-01-07   376.606.3705x41652  \n",
       "2010-01-25         133-143-4119  "
      ]
     },
     "execution_count": 13,
     "metadata": {},
     "output_type": "execute_result"
    }
   ],
   "source": [
    "calls = calls.set_index(pd.DatetimeIndex(calls['Call_Start'].astype('datetime64[D]')))\n",
    "calls[:10]"
   ]
  },
  {
   "cell_type": "code",
   "execution_count": 14,
   "metadata": {
    "collapsed": false
   },
   "outputs": [
    {
     "data": {
      "text/plain": [
       "DatetimeIndex(['2010-01-23', '2010-01-27', '2010-01-22', '2010-01-16',\n",
       "               '2010-01-15', '2010-01-17', '2010-01-11', '2010-01-30',\n",
       "               '2010-01-07', '2010-01-25',\n",
       "               ...\n",
       "               '2016-12-08', '2016-12-31', '2016-12-29', '2016-12-24',\n",
       "               '2016-12-02', '2016-12-02', '2016-12-08', '2016-12-22',\n",
       "               '2016-12-23', '2016-12-02'],\n",
       "              dtype='datetime64[ns]', name='Call_Start', length=52917, freq=None)"
      ]
     },
     "execution_count": 14,
     "metadata": {},
     "output_type": "execute_result"
    }
   ],
   "source": [
    "calls.index"
   ]
  },
  {
   "cell_type": "code",
   "execution_count": 15,
   "metadata": {
    "collapsed": false
   },
   "outputs": [
    {
     "data": {
      "text/html": [
       "<div>\n",
       "<table border=\"1\" class=\"dataframe\">\n",
       "  <thead>\n",
       "    <tr style=\"text-align: right;\">\n",
       "      <th></th>\n",
       "      <th>Number_Of_Calls</th>\n",
       "    </tr>\n",
       "    <tr>\n",
       "      <th>Call_Start</th>\n",
       "      <th></th>\n",
       "    </tr>\n",
       "  </thead>\n",
       "  <tbody>\n",
       "    <tr>\n",
       "      <th>2010-01-23</th>\n",
       "      <td>1.0</td>\n",
       "    </tr>\n",
       "    <tr>\n",
       "      <th>2010-01-27</th>\n",
       "      <td>1.0</td>\n",
       "    </tr>\n",
       "    <tr>\n",
       "      <th>2010-01-22</th>\n",
       "      <td>1.0</td>\n",
       "    </tr>\n",
       "    <tr>\n",
       "      <th>2010-01-16</th>\n",
       "      <td>1.0</td>\n",
       "    </tr>\n",
       "    <tr>\n",
       "      <th>2010-01-15</th>\n",
       "      <td>1.0</td>\n",
       "    </tr>\n",
       "    <tr>\n",
       "      <th>2010-01-17</th>\n",
       "      <td>1.0</td>\n",
       "    </tr>\n",
       "    <tr>\n",
       "      <th>2010-01-11</th>\n",
       "      <td>1.0</td>\n",
       "    </tr>\n",
       "    <tr>\n",
       "      <th>2010-01-30</th>\n",
       "      <td>1.0</td>\n",
       "    </tr>\n",
       "    <tr>\n",
       "      <th>2010-01-07</th>\n",
       "      <td>1.0</td>\n",
       "    </tr>\n",
       "    <tr>\n",
       "      <th>2010-01-25</th>\n",
       "      <td>1.0</td>\n",
       "    </tr>\n",
       "  </tbody>\n",
       "</table>\n",
       "</div>"
      ],
      "text/plain": [
       "            Number_Of_Calls\n",
       "Call_Start                 \n",
       "2010-01-23              1.0\n",
       "2010-01-27              1.0\n",
       "2010-01-22              1.0\n",
       "2010-01-16              1.0\n",
       "2010-01-15              1.0\n",
       "2010-01-17              1.0\n",
       "2010-01-11              1.0\n",
       "2010-01-30              1.0\n",
       "2010-01-07              1.0\n",
       "2010-01-25              1.0"
      ]
     },
     "execution_count": 15,
     "metadata": {},
     "output_type": "execute_result"
    }
   ],
   "source": [
    "data = pd.DataFrame(Number_Of_Calls,index = calls.index)\n",
    "data.columns = ['Number_Of_Calls']\n",
    "data[:10]"
   ]
  },
  {
   "cell_type": "code",
   "execution_count": 69,
   "metadata": {
    "collapsed": false
   },
   "outputs": [
    {
     "data": {
      "text/html": [
       "<div>\n",
       "<table border=\"1\" class=\"dataframe\">\n",
       "  <thead>\n",
       "    <tr style=\"text-align: right;\">\n",
       "      <th></th>\n",
       "      <th>Number_Of_Calls</th>\n",
       "    </tr>\n",
       "  </thead>\n",
       "  <tbody>\n",
       "    <tr>\n",
       "      <th>2010-01-01</th>\n",
       "      <td>8.0</td>\n",
       "    </tr>\n",
       "    <tr>\n",
       "      <th>2010-01-02</th>\n",
       "      <td>10.0</td>\n",
       "    </tr>\n",
       "    <tr>\n",
       "      <th>2010-01-03</th>\n",
       "      <td>8.0</td>\n",
       "    </tr>\n",
       "    <tr>\n",
       "      <th>2010-01-04</th>\n",
       "      <td>7.0</td>\n",
       "    </tr>\n",
       "    <tr>\n",
       "      <th>2010-01-05</th>\n",
       "      <td>5.0</td>\n",
       "    </tr>\n",
       "  </tbody>\n",
       "</table>\n",
       "</div>"
      ],
      "text/plain": [
       "            Number_Of_Calls\n",
       "2010-01-01              8.0\n",
       "2010-01-02             10.0\n",
       "2010-01-03              8.0\n",
       "2010-01-04              7.0\n",
       "2010-01-05              5.0"
      ]
     },
     "execution_count": 69,
     "metadata": {},
     "output_type": "execute_result"
    }
   ],
   "source": [
    "ts1 = data.groupby(Date)['Number_Of_Calls'].sum()\n",
    "ts1.columns = ['Number_Of_Calls']\n",
    "frame1  = pd.DataFrame(ts1,index = ts1.index.astype('datetime64[D]'))\n",
    "frame1[:5]"
   ]
  },
  {
   "cell_type": "code",
   "execution_count": 70,
   "metadata": {
    "collapsed": false
   },
   "outputs": [
    {
     "data": {
      "text/plain": [
       "Call_Start\n",
       "2010-01-01   01:06:13\n",
       "2010-01-02   01:49:49\n",
       "2010-01-03   01:17:47\n",
       "2010-01-04   01:00:58\n",
       "2010-01-05   00:30:10\n",
       "2010-01-06   01:53:25\n",
       "2010-01-07   01:29:21\n",
       "2010-01-08   01:01:07\n",
       "2010-01-09   01:27:31\n",
       "2010-01-10   01:33:35\n",
       "Freq: D, dtype: timedelta64[ns]"
      ]
     },
     "execution_count": 70,
     "metadata": {},
     "output_type": "execute_result"
    }
   ],
   "source": [
    "End = calls['Call_End'].astype('datetime64[ns]')\n",
    "Start = calls['Call_Start'].astype('datetime64[ns]')\n",
    "diff = End - Start\n",
    "\n",
    "timeSeries1 = pd.Series(diff, index = calls.index)\n",
    "timeSeries1 = timeSeries1.resample('D').sum()\n",
    "timeSeries1[:10]"
   ]
  },
  {
   "cell_type": "code",
   "execution_count": 71,
   "metadata": {
    "collapsed": false
   },
   "outputs": [
    {
     "data": {
      "text/html": [
       "<div>\n",
       "<table border=\"1\" class=\"dataframe\">\n",
       "  <thead>\n",
       "    <tr style=\"text-align: right;\">\n",
       "      <th></th>\n",
       "      <th>Total_Call_Hours</th>\n",
       "    </tr>\n",
       "    <tr>\n",
       "      <th>Call_Start</th>\n",
       "      <th></th>\n",
       "    </tr>\n",
       "  </thead>\n",
       "  <tbody>\n",
       "    <tr>\n",
       "      <th>2010-01-01</th>\n",
       "      <td>01:06:13</td>\n",
       "    </tr>\n",
       "    <tr>\n",
       "      <th>2010-01-02</th>\n",
       "      <td>01:49:49</td>\n",
       "    </tr>\n",
       "    <tr>\n",
       "      <th>2010-01-03</th>\n",
       "      <td>01:17:47</td>\n",
       "    </tr>\n",
       "    <tr>\n",
       "      <th>2010-01-04</th>\n",
       "      <td>01:00:58</td>\n",
       "    </tr>\n",
       "    <tr>\n",
       "      <th>2010-01-05</th>\n",
       "      <td>00:30:10</td>\n",
       "    </tr>\n",
       "  </tbody>\n",
       "</table>\n",
       "</div>"
      ],
      "text/plain": [
       "            Total_Call_Hours\n",
       "Call_Start                  \n",
       "2010-01-01          01:06:13\n",
       "2010-01-02          01:49:49\n",
       "2010-01-03          01:17:47\n",
       "2010-01-04          01:00:58\n",
       "2010-01-05          00:30:10"
      ]
     },
     "execution_count": 71,
     "metadata": {},
     "output_type": "execute_result"
    }
   ],
   "source": [
    "timeSeries1.columns = ['Total_Call_Hours']\n",
    "\n",
    "frame2 = pd.DataFrame(timeSeries1,index = timeSeries1.index)\n",
    "frame2.columns = ['Total_Call_Hours']\n",
    "frame2[:5]"
   ]
  },
  {
   "cell_type": "code",
   "execution_count": 72,
   "metadata": {
    "collapsed": false
   },
   "outputs": [
    {
     "data": {
      "text/plain": [
       "(2557, 1)"
      ]
     },
     "execution_count": 72,
     "metadata": {},
     "output_type": "execute_result"
    }
   ],
   "source": [
    "frame1.shape"
   ]
  },
  {
   "cell_type": "code",
   "execution_count": 73,
   "metadata": {
    "collapsed": false
   },
   "outputs": [
    {
     "data": {
      "text/plain": [
       "(2557, 1)"
      ]
     },
     "execution_count": 73,
     "metadata": {},
     "output_type": "execute_result"
    }
   ],
   "source": [
    "frame2.shape"
   ]
  },
  {
   "cell_type": "code",
   "execution_count": 74,
   "metadata": {
    "collapsed": false
   },
   "outputs": [],
   "source": [
    "frame1['Total_Call_Hours'] = frame2['Total_Call_Hours']"
   ]
  },
  {
   "cell_type": "code",
   "execution_count": 75,
   "metadata": {
    "collapsed": false
   },
   "outputs": [
    {
     "data": {
      "text/html": [
       "<div>\n",
       "<table border=\"1\" class=\"dataframe\">\n",
       "  <thead>\n",
       "    <tr style=\"text-align: right;\">\n",
       "      <th></th>\n",
       "      <th>Number_Of_Calls</th>\n",
       "      <th>Total_Call_Hours</th>\n",
       "    </tr>\n",
       "  </thead>\n",
       "  <tbody>\n",
       "    <tr>\n",
       "      <th>2010-01-01</th>\n",
       "      <td>8.0</td>\n",
       "      <td>01:06:13</td>\n",
       "    </tr>\n",
       "    <tr>\n",
       "      <th>2010-01-02</th>\n",
       "      <td>10.0</td>\n",
       "      <td>01:49:49</td>\n",
       "    </tr>\n",
       "    <tr>\n",
       "      <th>2010-01-03</th>\n",
       "      <td>8.0</td>\n",
       "      <td>01:17:47</td>\n",
       "    </tr>\n",
       "    <tr>\n",
       "      <th>2010-01-04</th>\n",
       "      <td>7.0</td>\n",
       "      <td>01:00:58</td>\n",
       "    </tr>\n",
       "    <tr>\n",
       "      <th>2010-01-05</th>\n",
       "      <td>5.0</td>\n",
       "      <td>00:30:10</td>\n",
       "    </tr>\n",
       "    <tr>\n",
       "      <th>2010-01-06</th>\n",
       "      <td>12.0</td>\n",
       "      <td>01:53:25</td>\n",
       "    </tr>\n",
       "    <tr>\n",
       "      <th>2010-01-07</th>\n",
       "      <td>8.0</td>\n",
       "      <td>01:29:21</td>\n",
       "    </tr>\n",
       "    <tr>\n",
       "      <th>2010-01-08</th>\n",
       "      <td>7.0</td>\n",
       "      <td>01:01:07</td>\n",
       "    </tr>\n",
       "    <tr>\n",
       "      <th>2010-01-09</th>\n",
       "      <td>11.0</td>\n",
       "      <td>01:27:31</td>\n",
       "    </tr>\n",
       "    <tr>\n",
       "      <th>2010-01-10</th>\n",
       "      <td>8.0</td>\n",
       "      <td>01:33:35</td>\n",
       "    </tr>\n",
       "  </tbody>\n",
       "</table>\n",
       "</div>"
      ],
      "text/plain": [
       "            Number_Of_Calls  Total_Call_Hours\n",
       "2010-01-01              8.0          01:06:13\n",
       "2010-01-02             10.0          01:49:49\n",
       "2010-01-03              8.0          01:17:47\n",
       "2010-01-04              7.0          01:00:58\n",
       "2010-01-05              5.0          00:30:10\n",
       "2010-01-06             12.0          01:53:25\n",
       "2010-01-07              8.0          01:29:21\n",
       "2010-01-08              7.0          01:01:07\n",
       "2010-01-09             11.0          01:27:31\n",
       "2010-01-10              8.0          01:33:35"
      ]
     },
     "execution_count": 75,
     "metadata": {},
     "output_type": "execute_result"
    }
   ],
   "source": [
    "frame1.head(10)"
   ]
  },
  {
   "cell_type": "code",
   "execution_count": 76,
   "metadata": {
    "collapsed": false
   },
   "outputs": [
    {
     "data": {
      "text/html": [
       "<div>\n",
       "<table border=\"1\" class=\"dataframe\">\n",
       "  <thead>\n",
       "    <tr style=\"text-align: right;\">\n",
       "      <th></th>\n",
       "      <th>Number_Of_Calls</th>\n",
       "      <th>Total_Call_Hours</th>\n",
       "    </tr>\n",
       "  </thead>\n",
       "  <tbody>\n",
       "    <tr>\n",
       "      <th>2016-12-27</th>\n",
       "      <td>25.0</td>\n",
       "      <td>05:13:38</td>\n",
       "    </tr>\n",
       "    <tr>\n",
       "      <th>2016-12-28</th>\n",
       "      <td>40.0</td>\n",
       "      <td>05:45:59</td>\n",
       "    </tr>\n",
       "    <tr>\n",
       "      <th>2016-12-29</th>\n",
       "      <td>22.0</td>\n",
       "      <td>02:49:56</td>\n",
       "    </tr>\n",
       "    <tr>\n",
       "      <th>2016-12-30</th>\n",
       "      <td>37.0</td>\n",
       "      <td>06:37:47</td>\n",
       "    </tr>\n",
       "    <tr>\n",
       "      <th>2016-12-31</th>\n",
       "      <td>28.0</td>\n",
       "      <td>05:44:27</td>\n",
       "    </tr>\n",
       "  </tbody>\n",
       "</table>\n",
       "</div>"
      ],
      "text/plain": [
       "            Number_Of_Calls  Total_Call_Hours\n",
       "2016-12-27             25.0          05:13:38\n",
       "2016-12-28             40.0          05:45:59\n",
       "2016-12-29             22.0          02:49:56\n",
       "2016-12-30             37.0          06:37:47\n",
       "2016-12-31             28.0          05:44:27"
      ]
     },
     "execution_count": 76,
     "metadata": {},
     "output_type": "execute_result"
    }
   ],
   "source": [
    "frame1.tail(5)"
   ]
  },
  {
   "cell_type": "markdown",
   "metadata": {
    "collapsed": true,
    "nbgrader": {
     "grade": false,
     "grade_id": "1",
     "locked": false,
     "schema_version": 1,
     "solution": true
    }
   },
   "source": [
    "## Question 3 (1)\n",
    "\n",
    "Produce the time series plot(s) for your data."
   ]
  },
  {
   "cell_type": "code",
   "execution_count": 95,
   "metadata": {
    "collapsed": false
   },
   "outputs": [
    {
     "data": {
      "image/png": "[encoded data removed]",
      "text/plain": [
       "<matplotlib.figure.Figure at 0x11cf4eb38>"
      ]
     },
     "metadata": {},
     "output_type": "display_data"
    }
   ],
   "source": [
    "ax = frame1.plot()\n",
    "plt.show()\n",
    "#frame1.plot(title= 'plot')"
   ]
  },
  {
   "cell_type": "markdown",
   "metadata": {},
   "source": [
    "## Question 4.a (1)\n",
    "\n",
    "Does it seem as if your data requires any transforms, in order for you to a build your forecast?"
   ]
  },
  {
   "cell_type": "markdown",
   "metadata": {},
   "source": []
  },
  {
   "cell_type": "markdown",
   "metadata": {},
   "source": [
    "Type The variation seems to be increaing with the time, thus a mathematical transformation seems to be more appropriate, therefore we may apply the box-cox tranformation of the form."
   ]
  },
  {
   "cell_type": "markdown",
   "metadata": {},
   "source": [
    "## Question 4.b (1)\n",
    "\n",
    "\n",
    "Since you are going to be making a **MONTHLY** forecast you should now apply some calendar adjustments to your data to imporove your forecasts."
   ]
  },
  {
   "cell_type": "code",
   "execution_count": 96,
   "metadata": {
    "collapsed": false
   },
   "outputs": [],
   "source": [
    "series = pd.Series(frame1['Number_Of_Calls'],index = frame1.index)\n",
    "df_cal_adjust = None"
   ]
  },
  {
   "cell_type": "code",
   "execution_count": 97,
   "metadata": {
    "collapsed": false
   },
   "outputs": [],
   "source": [
    "Series = series.resample('M').sum()"
   ]
  },
  {
   "cell_type": "code",
   "execution_count": 98,
   "metadata": {
    "collapsed": false
   },
   "outputs": [
    {
     "data": {
      "text/plain": [
       "2010-01-31    260.0\n",
       "2010-02-28    279.0\n",
       "2010-03-31    296.0\n",
       "2010-04-30    326.0\n",
       "2010-05-31    284.0\n",
       "2010-06-30    304.0\n",
       "2010-07-31    314.0\n",
       "2010-08-31    350.0\n",
       "2010-09-30    352.0\n",
       "2010-10-31    349.0\n",
       "Freq: M, Name: Number_Of_Calls, dtype: float64"
      ]
     },
     "execution_count": 98,
     "metadata": {},
     "output_type": "execute_result"
    }
   ],
   "source": [
    "Series[:10]"
   ]
  },
  {
   "cell_type": "code",
   "execution_count": 99,
   "metadata": {
    "collapsed": false
   },
   "outputs": [
    {
     "data": {
      "text/plain": [
       "2010-01-31     8.387097\n",
       "2010-02-28     9.964286\n",
       "2010-03-31     9.548387\n",
       "2010-04-30    10.866667\n",
       "2010-05-31     9.161290\n",
       "2010-06-30    10.133333\n",
       "2010-07-31    10.129032\n",
       "2010-08-31    11.290323\n",
       "2010-09-30    11.733333\n",
       "2010-10-31    11.258065\n",
       "Freq: M, Name: Number_Of_Calls, dtype: float64"
      ]
     },
     "execution_count": 99,
     "metadata": {},
     "output_type": "execute_result"
    }
   ],
   "source": [
    "Series1 = Series/ Series.index.days_in_month\n",
    "Series1[:10]"
   ]
  },
  {
   "cell_type": "code",
   "execution_count": 100,
   "metadata": {
    "collapsed": false
   },
   "outputs": [
    {
     "data": {
      "image/png": "[encoded data removed]",
      "text/plain": [
       "<matplotlib.figure.Figure at 0x11cb4b048>"
      ]
     },
     "metadata": {},
     "output_type": "display_data"
    }
   ],
   "source": [
    "Series1.plot()\n",
    "plt.show()"
   ]
  },
  {
   "cell_type": "markdown",
   "metadata": {},
   "source": []
  },
  {
   "cell_type": "markdown",
   "metadata": {},
   "source": [
    "## Question 4.c (1)\n",
    "\n",
    "Set the value of the parameter lam6da below equal to the correct value for a Box-Cox transform for your calendar adjusted data."
   ]
  },
  {
   "cell_type": "code",
   "execution_count": 103,
   "metadata": {
    "collapsed": false
   },
   "outputs": [
    {
     "name": "stdout",
     "output_type": "stream",
     "text": [
      "0.386813193906\n"
     ]
    }
   ],
   "source": [
    "\n",
    "tranformedData, lam6da = boxcox(Series1) \n",
    "print(lam6da)"
   ]
  },
  {
   "cell_type": "markdown",
   "metadata": {},
   "source": [
    "## Question 4.d (1)\n",
    "\n",
    "Apply the Box-Cox transform with the correct lam6da to your calendar adjusted data and produce the final plot."
   ]
  },
  {
   "cell_type": "code",
   "execution_count": 104,
   "metadata": {
    "collapsed": false
   },
   "outputs": [
    {
     "data": {
      "image/png": "[encoded data removed]",
      "text/plain": [
       "<matplotlib.figure.Figure at 0x117f1bbe0>"
      ]
     },
     "metadata": {},
     "output_type": "display_data"
    }
   ],
   "source": [
    "Series_transformed = pd.Series(tranformedData,index = Series.index)\n",
    "Series_transformed.plot()\n",
    "plt.show()"
   ]
  },
  {
   "cell_type": "markdown",
   "metadata": {},
   "source": [
    "## Question 5\n",
    "\n",
    "Question 5 onwards will use the calendar adjusted data set produced in question 4.c and 4.d\n",
    "\n",
    "## Question 5.a (1)\n",
    "\n",
    "Your data may have some seasonality. Produce the ACF plot and PACF plot that will allow you to identify any seasonality. It may be worthwhile to do this on both the Box-Cox adjusted and unadjusted values."
   ]
  },
  {
   "cell_type": "code",
   "execution_count": 111,
   "metadata": {
    "collapsed": false
   },
   "outputs": [
    {
     "data": {
      "image/png": "[encoded data removed]",
      "text/plain": [
       "<matplotlib.figure.Figure at 0x11d3b6b38>"
      ]
     },
     "metadata": {},
     "output_type": "display_data"
    }
   ],
   "source": [
    "plot_acf(Series_transformed)\n",
    "plt.show()"
   ]
  },
  {
   "cell_type": "code",
   "execution_count": 113,
   "metadata": {
    "collapsed": false
   },
   "outputs": [
    {
     "data": {
      "image/png": "[encoded data removed]",
      "text/plain": [
       "<matplotlib.figure.Figure at 0x11816d240>"
      ]
     },
     "metadata": {},
     "output_type": "display_data"
    }
   ],
   "source": [
    "plot_pacf(Series_transformed)\n",
    "plt.show()"
   ]
  },
  {
   "cell_type": "markdown",
   "metadata": {},
   "source": [
    "## Question 5.b (1)\n",
    "\n",
    "Does your data have any seasonality? If so what is the lag? What does the large value at lag 1 indicate in the PACF plot?"
   ]
  },
  {
   "cell_type": "markdown",
   "metadata": {},
   "source": []
  },
  {
   "cell_type": "markdown",
   "metadata": {},
   "source": [
    "## Question 5.c (1)\n",
    "\n",
    "Produce a statistical measure of your confidence in the above seasonlity lag?"
   ]
  },
  {
   "cell_type": "code",
   "execution_count": 120,
   "metadata": {
    "collapsed": false
   },
   "outputs": [
    {
     "name": "stdout",
     "output_type": "stream",
     "text": [
      "Box-Pierce test\n",
      " \t X-squared = 61.3304613518, p-value = 4.82556367849e-15\n",
      "Box-Ljung test \n",
      " \t X-squared = 63.5472250151, p-value = 1.56568010349e-15\n"
     ]
    }
   ],
   "source": [
    "box_test = pd.DataFrame(columns=[])\n",
    "lbvalue, lbpvalue, bpvalue, bppvalue = acorr_ljungbox(Series_transformed, lags=1, boxpierce=True)\n",
    "print('Box-Pierce test\\n \\t X-squared = %s, p-value = %s'%(bpvalue[-1], bppvalue[-1]) ) \n",
    "print('Box-Ljung test \\n \\t X-squared = %s, p-value = %s'%(lbvalue[-1], lbpvalue[-1]) )"
   ]
  },
  {
   "cell_type": "markdown",
   "metadata": {},
   "source": [
    "## Question 6.a (1)\n",
    "\n",
    "Do three initial forecasts for one month ahead using the Naive, Mean and Seasonal Naive methods. \n",
    "Print out your forecast and the prediction intervals. If you had no seasonal component then use a lag of 12 for the Seasonal Naive."
   ]
  },
  {
   "cell_type": "code",
   "execution_count": 156,
   "metadata": {
    "collapsed": true
   },
   "outputs": [],
   "source": [
    "def snaive(y, h):\n",
    "    period = {'QS-JAN':4,'M':12,'D':365}[y.index.freqstr]\n",
    "    index = y.index.shift(h)[-h:]\n",
    "    temp = pd.Series( [0]*h, index=index)\n",
    "    for i in range(h):\n",
    "        temp.iloc[i] = y.iloc[-period:].values.T[i%period]\n",
    "    return temp"
   ]
  },
  {
   "cell_type": "code",
   "execution_count": 157,
   "metadata": {
    "collapsed": true
   },
   "outputs": [],
   "source": [
    "def meanf(y, h):\n",
    "    values = np.ones(h)*y.values.mean()\n",
    "    index = y.index.shift(h)[-h:]    \n",
    "    return pd.Series(values, index=index)"
   ]
  },
  {
   "cell_type": "code",
   "execution_count": 161,
   "metadata": {
    "collapsed": true
   },
   "outputs": [],
   "source": [
    "def naive(y, h):\n",
    "    values = np.ones(h)*y[-1:].values[0]\n",
    "    index = y.index.shift(h)[-h:] \n",
    "    return pd.Series(values, index=index)"
   ]
  },
  {
   "cell_type": "code",
   "execution_count": 210,
   "metadata": {
    "collapsed": false
   },
   "outputs": [],
   "source": [
    "ValueN = naive(Series_transformed,1).values\n",
    "Const = 1.96*(np.std(Series_transformed.values))\n",
    "lowerN =  ValueS - Const\n",
    "UpperN = ValueS + Const"
   ]
  },
  {
   "cell_type": "code",
   "execution_count": 212,
   "metadata": {
    "collapsed": false
   },
   "outputs": [
    {
     "name": "stdout",
     "output_type": "stream",
     "text": [
      "naive : Predicted = 6.84222 , interval = [5.31154 , 9.94358]\n"
     ]
    }
   ],
   "source": [
    "print('naive : Predicted = %.5f , interval = [%.5f , %.5f]'%(ValueN,lowerN,UpperN))\n"
   ]
  },
  {
   "cell_type": "code",
   "execution_count": 213,
   "metadata": {
    "collapsed": false
   },
   "outputs": [],
   "source": [
    "ValueM = meanf(Series_transformed,1).values\n",
    "lowerM = ValueM - Const\n",
    "UpperM = ValueM + Const"
   ]
  },
  {
   "cell_type": "code",
   "execution_count": 214,
   "metadata": {
    "collapsed": false
   },
   "outputs": [
    {
     "name": "stdout",
     "output_type": "stream",
     "text": [
      "Mean : Predicted Value = 5.62695, interval [3.31093 , 7.94297]\n"
     ]
    }
   ],
   "source": [
    "print ('Mean : Predicted Value = %.5f, interval = [%.5f , %.5f]'%(ValueM,lowerM,UpperM))"
   ]
  },
  {
   "cell_type": "code",
   "execution_count": 215,
   "metadata": {
    "collapsed": false
   },
   "outputs": [],
   "source": [
    "ValueS =  snaive(Series_transformed,1).values\n",
    "LowerS = ValueS - Const\n",
    "UpperS = ValueS + Const"
   ]
  },
  {
   "cell_type": "code",
   "execution_count": 217,
   "metadata": {
    "collapsed": false
   },
   "outputs": [
    {
     "name": "stdout",
     "output_type": "stream",
     "text": [
      "Seasonal Naive : Predicted Value = 7.62756, interval = [5.31154 , 9.94358]\n"
     ]
    }
   ],
   "source": [
    "print ('Seasonal Naive : Predicted Value = %.5f, interval = [%.5f , %.5f]' %(ValueS,LowerS,UpperS))"
   ]
  },
  {
   "cell_type": "markdown",
   "metadata": {},
   "source": [
    "## Question 6.b (1)\n",
    "\n",
    "It is possible to use the RMSE, MAE and MAPE to asses which of the above forecasts added the most value. Produce a table that outputs these values. You do not need to split your data into test and training sets for this evaluation. Just do the evaluation in-sample."
   ]
  },
  {
   "cell_type": "code",
   "execution_count": 219,
   "metadata": {
    "collapsed": true
   },
   "outputs": [],
   "source": [
    "def accuracy(y_cap, y,is_ts=True, is_seasonal=True):\n",
    "    e = y-y_cap\n",
    "    RMSE = (e**2.).mean()**0.5\n",
    "    MAE = e.abs().mean()\n",
    "    MAPE = (100.*e/y).abs().mean()\n",
    "    q = e/((y-y.shift({'QS-JAN':4,'M':12,'W':52,'D':365}[y.index.freqstr])).abs()).mean() if is_ts and is_seasonal else \\\n",
    "        e/((y-y.shift(1)).abs()).mean() if is_ts else \\\n",
    "        e/((y-y.mean()).abs()).mean()\n",
    "    MASE = q.abs().mean()\n",
    "    return RMSE, MAE, MAPE, MASE\n",
    "\n"
   ]
  },
  {
   "cell_type": "code",
   "execution_count": 226,
   "metadata": {
    "collapsed": false
   },
   "outputs": [
    {
     "data": {
      "text/html": [
       "<div>\n",
       "<table border=\"1\" class=\"dataframe\">\n",
       "  <thead>\n",
       "    <tr style=\"text-align: right;\">\n",
       "      <th></th>\n",
       "      <th>RMSE</th>\n",
       "      <th>MAE</th>\n",
       "      <th>MAPE</th>\n",
       "      <th>MASE</th>\n",
       "    </tr>\n",
       "  </thead>\n",
       "  <tbody>\n",
       "    <tr>\n",
       "      <th>Mean method</th>\n",
       "      <td>1.181642</td>\n",
       "      <td>1.020033</td>\n",
       "      <td>19.651043</td>\n",
       "      <td>1.559832</td>\n",
       "    </tr>\n",
       "    <tr>\n",
       "      <th>Naive method</th>\n",
       "      <td>1.695042</td>\n",
       "      <td>1.370234</td>\n",
       "      <td>29.604776</td>\n",
       "      <td>2.095359</td>\n",
       "    </tr>\n",
       "    <tr>\n",
       "      <th>Seasonal Naive method</th>\n",
       "      <td>1.181642</td>\n",
       "      <td>1.020033</td>\n",
       "      <td>19.651043</td>\n",
       "      <td>1.559832</td>\n",
       "    </tr>\n",
       "  </tbody>\n",
       "</table>\n",
       "</div>"
      ],
      "text/plain": [
       "                           RMSE       MAE       MAPE      MASE\n",
       "Mean method            1.181642  1.020033  19.651043  1.559832\n",
       "Naive method           1.695042  1.370234  29.604776  2.095359\n",
       "Seasonal Naive method  1.181642  1.020033  19.651043  1.559832"
      ]
     },
     "execution_count": 226,
     "metadata": {},
     "output_type": "execute_result"
    }
   ],
   "source": [
    "Series_transformed_results = pd.DataFrame(columns=['RMSE', 'MAE', 'MAPE', 'MASE'])\n",
    "Series_transformed_results.loc['Mean method'] = accuracy(ValueM, Series_transformed)\n",
    "Series_transformed_results.loc['Naive method'] = accuracy(ValueN, Series_transformed)\n",
    "Series_transformed_results.loc['Seasonal Naive method'] = accuracy(ValueM,Series_transformed)\n",
    "Series_transformed_results"
   ]
  },
  {
   "cell_type": "markdown",
   "metadata": {},
   "source": [
    "## Question 6.c (1)\n",
    "\n",
    "Produce the in-sample residuals for the Seasonal Naive forecast from 6.a. Do an evaluation of the residuals by producing a plot of the histogram of residuals, the ACF and PACF."
   ]
  },
  {
   "cell_type": "code",
   "execution_count": 234,
   "metadata": {
    "collapsed": false
   },
   "outputs": [
    {
     "data": {
      "image/png": "[encoded data removed]",
      "text/plain": [
       "<matplotlib.figure.Figure at 0x11d41db70>"
      ]
     },
     "metadata": {},
     "output_type": "display_data"
    },
    {
     "data": {
      "image/png": "[encoded data removed]",
      "text/plain": [
       "<matplotlib.figure.Figure at 0x11d2f0978>"
      ]
     },
     "metadata": {},
     "output_type": "display_data"
    },
    {
     "data": {
      "image/png": "[encoded data removed]",
      "text/plain": [
       "<matplotlib.figure.Figure at 0x11d1a2048>"
      ]
     },
     "metadata": {},
     "output_type": "display_data"
    }
   ],
   "source": [
    "res = (Series_transformed - Series_transformed.shift(1))[1:]\n",
    "res.rename(columns={'Series_transformed': 'Series_transformed.res'}, inplace=True)\n",
    "res.plot(title='Residuals from naive method')\n",
    "plt.show()\n",
    "res.hist(bins=18)\n",
    "plt.show()\n",
    "plot_acf(res,lags=20)\n",
    "plt.show()\n",
    "plt.show()"
   ]
  },
  {
   "cell_type": "markdown",
   "metadata": {},
   "source": [
    "## Question 6.d (1)\n",
    "\n",
    "What can you say about the quality of your forecast given the plots produced in 6.c?"
   ]
  },
  {
   "cell_type": "markdown",
   "metadata": {},
   "source": []
  },
  {
   "cell_type": "markdown",
   "metadata": {},
   "source": [
    "## Question 7.a (1)\n",
    "\n",
    "Its clear that the data has a trend in it. It is possible to produce a forecast using linear regression to capture this trend. Produce a forecast of your data using linear regression. This will require your data to be split into a test and training set. Use the last year of data for test."
   ]
  },
  {
   "cell_type": "code",
   "execution_count": null,
   "metadata": {
    "collapsed": true
   },
   "outputs": [],
   "source": []
  },
  {
   "cell_type": "markdown",
   "metadata": {},
   "source": [
    "## Question 7.b (1)\n",
    "\n",
    "It is possible to use the RMSE, MAE and MAPE to asses which of the above forecasts was the most accurate. Produce a table that outputs these values for Naive, Seasonal Naive, Mean and Linear Regression methods. This should use the training and test sets appropriatly."
   ]
  },
  {
   "cell_type": "code",
   "execution_count": null,
   "metadata": {
    "collapsed": true
   },
   "outputs": [],
   "source": []
  },
  {
   "cell_type": "markdown",
   "metadata": {},
   "source": [
    "## Question 7.c (1)\n",
    "\n",
    "Produce the residuals for the Linear Regression forecast. Do an evaluation of the residuals by producing a plot of the histogram of residuals and the ACF and PACF."
   ]
  },
  {
   "cell_type": "code",
   "execution_count": null,
   "metadata": {
    "collapsed": true
   },
   "outputs": [],
   "source": [
    "\n",
    "plt.show()"
   ]
  },
  {
   "cell_type": "markdown",
   "metadata": {},
   "source": [
    "## Question 7.d (1)\n",
    "\n",
    "What can you say about the quality of your forecast given the plots produced in 7.c?"
   ]
  },
  {
   "cell_type": "markdown",
   "metadata": {},
   "source": []
  },
  {
   "cell_type": "markdown",
   "metadata": {},
   "source": [
    "## Question 8.a (1)\n",
    "\n",
    "If we had a really good forecast for the total hours usage on our network in a given month. We may be able to forecast Total Number of Calls made. How would you go about producing such a forecast?"
   ]
  },
  {
   "cell_type": "markdown",
   "metadata": {},
   "source": []
  },
  {
   "cell_type": "markdown",
   "metadata": {},
   "source": [
    "## Question 8.b (1)\n",
    "\n",
    "Produce a plot to evaluate if the forecast in 8.a is a reasonable approach."
   ]
  },
  {
   "cell_type": "code",
   "execution_count": null,
   "metadata": {
    "collapsed": true
   },
   "outputs": [],
   "source": [
    "\n",
    "plt.show()"
   ]
  }
 ],
 "metadata": {
  "anaconda-cloud": {},
  "celltoolbar": "Create Assignment",
  "kernelspec": {
   "display_name": "Python 3",
   "language": "python",
   "name": "python3"
  },
  "language_info": {
   "codemirror_mode": {
    "name": "ipython",
    "version": 3
   },
   "file_extension": ".py",
   "mimetype": "text/x-python",
   "name": "python",
   "nbconvert_exporter": "python",
   "pygments_lexer": "ipython3",
   "version": "3.6.0"
  }
 },
 "nbformat": 4,
 "nbformat_minor": 2
}
