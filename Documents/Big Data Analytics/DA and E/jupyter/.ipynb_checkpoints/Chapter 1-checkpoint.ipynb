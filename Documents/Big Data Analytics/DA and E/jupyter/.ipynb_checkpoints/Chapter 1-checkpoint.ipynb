{
 "cells": [
  {
   "cell_type": "code",
   "execution_count": null,
   "metadata": {
    "collapsed": true
   },
   "outputs": [],
   "source": [
    "car_emissions_tsv = StringIO(\"\"\"\n",
    "Model\tEngine (litres)\tCity (mpg)\tHighway (mpg)\tCarbon (tons CO2 per year)\n",
    "Chevrolet Aveo\t1.6\t25\t34\t6.6\n",
    "Chevrolet Aveo 5\t1.6\t25\t34\t6.6\n",
    "Honda Civic\t1.8\t25\t36\t6.3\n",
    "Honda Civic Hybrid\t1.3\t40\t45\t4.4\n",
    "Honda Fit\t1.5\t27\t33\t6.1\n",
    "Honda Fit\t1.5\t28\t35\t5.9\n",
    "Hyundai Accent\t1.6\t26\t35\t6.3\n",
    "Kia Rio\t1.6\t26\t35\t6.1\n",
    "Nissan Versa\t1.8\t27\t33\t6.3\n",
    "Nissan Versa\t1.8\t24\t32\t6.8\n",
    "Pontiac G3 Wave\t1.6\t25\t34\t6.6\n",
    "Pontiac G3 Wave 5\t1.6\t25\t34\t6.6\n",
    "Pontiac Vibe\t1.8\t26\t31\t6.6\n",
    "Saturn Astra 2DR Hatchback\t1.8\t24\t30\t6.8\n",
    "Saturn Astra 4DR Hatchback\t1.8\t24\t30\t6.8\n",
    "Scion xD\t1.8\t26\t32\t6.6\n",
    "Toyota Corolla\t1.8\t27\t35\t6.1\n",
    "Toyota Matrix\t1.8\t25\t31\t6.6\n",
    "Toyota Prius\t1.5\t48\t45\t4\n",
    "Toyota Yaris\t1.5\t29\t35\t5.9\n",
    "\"\"\")\n",
    "\n",
    "car_emissions_df = pd.read_table(car_emissions_tsv)\n"
   ]
  }
 ],
 "metadata": {
  "kernelspec": {
   "display_name": "Python 3",
   "language": "python",
   "name": "python3"
  },
  "language_info": {
   "codemirror_mode": {
    "name": "ipython",
    "version": 3
   },
   "file_extension": ".py",
   "mimetype": "text/x-python",
   "name": "python",
   "nbconvert_exporter": "python",
   "pygments_lexer": "ipython3",
   "version": "3.6.0"
  }
 },
 "nbformat": 4,
 "nbformat_minor": 2
}
